{
 "cells": [
  {
   "cell_type": "code",
   "execution_count": 6,
   "id": "c734f150",
   "metadata": {},
   "outputs": [],
   "source": [
    "import math\n",
    "import numpy as np\n",
    "from scipy import stats"
   ]
  },
  {
   "cell_type": "code",
   "execution_count": 7,
   "id": "5b86893e",
   "metadata": {},
   "outputs": [],
   "source": [
    "#It is assumed that the mean systolic blood pressure is μ = 120 mm Hg. In the Honolulu Heart Study, a sample of n = 100 people had an average systolic blood pressure of 130.1 mm Hg with a standard deviation of 21.21 mm Hg. Is the group significantly different (with respect to systolic blood pressure!) from the regular population?\n",
    "\n",
    "#Set up the hypothesis test.\n"
   ]
  },
  {
   "cell_type": "code",
   "execution_count": 8,
   "id": "d30bb6e6",
   "metadata": {},
   "outputs": [],
   "source": [
    "p_mean = 120\n",
    "n = 100\n",
    "s_mean = 130.1\n",
    "s_std = 21.21"
   ]
  },
  {
   "cell_type": "code",
   "execution_count": 9,
   "id": "caa84c47",
   "metadata": {},
   "outputs": [],
   "source": [
    "\n",
    "H0 : s_mean <= 120\n",
    "HA : s_mean > 120"
   ]
  },
  {
   "cell_type": "code",
   "execution_count": 10,
   "id": "8c87148c",
   "metadata": {},
   "outputs": [],
   "source": [
    "#Calculate the test statistic by hand and also code it in Python. It should be 4.76190. We will take a look at how to make decisions based on this calculated value."
   ]
  },
  {
   "cell_type": "code",
   "execution_count": 11,
   "id": "1d71452f",
   "metadata": {},
   "outputs": [
    {
     "data": {
      "text/plain": [
       "4.761904761904759"
      ]
     },
     "execution_count": 11,
     "metadata": {},
     "output_type": "execute_result"
    }
   ],
   "source": [
    "statistic = (s_mean - p_mean)/(s_std/math.sqrt(n))\n",
    "statistic"
   ]
  }
 ],
 "metadata": {
  "kernelspec": {
   "display_name": "Python 3 (ipykernel)",
   "language": "python",
   "name": "python3"
  },
  "language_info": {
   "codemirror_mode": {
    "name": "ipython",
    "version": 3
   },
   "file_extension": ".py",
   "mimetype": "text/x-python",
   "name": "python",
   "nbconvert_exporter": "python",
   "pygments_lexer": "ipython3",
   "version": "3.10.9"
  }
 },
 "nbformat": 4,
 "nbformat_minor": 5
}
